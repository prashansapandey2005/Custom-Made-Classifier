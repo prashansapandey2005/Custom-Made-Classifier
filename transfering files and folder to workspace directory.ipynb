{
 "cells": [
  {
   "cell_type": "code",
   "execution_count": 1,
   "id": "4e039c54",
   "metadata": {},
   "outputs": [
    {
     "name": "stdout",
     "output_type": "stream",
     "text": [
      "['train.py', '.ipynb_checkpoints', 'predict.py', 'flowers', '.Trash-1001', 'checkpoints', 'cat_to_name.json', 'cd0673']\n"
     ]
    }
   ],
   "source": [
    "import os\n",
    "\n",
    "print(os.listdir('/workspace'))"
   ]
  },
  {
   "cell_type": "code",
   "execution_count": 12,
   "id": "fc342233",
   "metadata": {},
   "outputs": [
    {
     "name": "stdout",
     "output_type": "stream",
     "text": [
      "File found at: /workspace/checkpoints/checkpoint.pth\n"
     ]
    }
   ],
   "source": [
    "import os\n",
    "\n",
    "def find_file(filename, search_path='/'):\n",
    "    # Traverse the directory tree from the specified search path\n",
    "    for root, dirs, files in os.walk(search_path):\n",
    "        if filename in files:\n",
    "            return os.path.join(root, filename)\n",
    "    return None\n",
    "\n",
    "# Specify the filename you are looking for\n",
    "filename = \"checkpoint.pth\"\n",
    "# Specify the path to start the search (you can use '/' to search from the root)\n",
    "search_path = \"/workspace\"  # Adjust the search path as needed\n",
    "\n",
    "# Call the function to find the file\n",
    "file_path = find_file(filename, search_path)\n",
    "\n",
    "if file_path:\n",
    "    print(f\"File found at: {file_path}\")\n",
    "else:\n",
    "    print(\"File not found\")\n"
   ]
  },
  {
   "cell_type": "code",
   "execution_count": 4,
   "id": "1a22b45f",
   "metadata": {},
   "outputs": [],
   "source": [
    "#to copy checkpoint to workspace directory\n",
    "import shutil\n",
    "import os\n",
    "\n",
    "def copy_items_to_workspace(source_items, destination_dir=\"/workspace\"):\n",
    "    # Ensure the destination directory exists\n",
    "    os.makedirs(destination_dir, exist_ok=True)\n",
    "\n",
    "    for item_name in source_items:\n",
    "        # Construct full item paths\n",
    "        source_path = os.path.join(os.getcwd(), item_name)\n",
    "        destination_path = os.path.join(destination_dir, item_name)\n",
    "        \n",
    "        if os.path.isfile(source_path):\n",
    "            # Copy the file\n",
    "            shutil.copy(source_path, destination_path)\n",
    "            print(f\"Copied file: {item_name} to {destination_dir}\")\n",
    "        elif os.path.isdir(source_path):\n",
    "            # Copy the directory and its contents\n",
    "            shutil.copytree(source_path, destination_path)\n",
    "            print(f\"Copied directory: {item_name} to {destination_dir}\")\n",
    "\n",
    "# List of files and directories to copy\n",
    "items_to_copy = [ \"flowers\",\"train.py\",\"predict.py\",\"cat_to_name.json\"]\n",
    "\n",
    "# Call the function to copy items\n",
    "copy_items_to_workspace(items_to_copy)\n"
   ]
  },
  {
   "cell_type": "code",
   "execution_count": 15,
   "id": "c14fba65",
   "metadata": {},
   "outputs": [
    {
     "name": "stdout",
     "output_type": "stream",
     "text": [
      "File found at: /workspace/checkpoints/checkpoint.pth\n"
     ]
    }
   ],
   "source": [
    "import os\n",
    "\n",
    "# Check if the file exists and print its path\n",
    "file_path = \"/workspace/checkpoints/checkpoint.pth\"\n",
    "if os.path.isfile(file_path):\n",
    "    print(f\"File found at: {file_path}\")\n",
    "else:\n",
    "    print(\"File not found\")\n"
   ]
  }
 ],
 "metadata": {
  "kernelspec": {
   "display_name": "Python 3 (ipykernel)",
   "language": "python",
   "name": "python3"
  },
  "language_info": {
   "codemirror_mode": {
    "name": "ipython",
    "version": 3
   },
   "file_extension": ".py",
   "mimetype": "text/x-python",
   "name": "python",
   "nbconvert_exporter": "python",
   "pygments_lexer": "ipython3",
   "version": "3.10.11"
  }
 },
 "nbformat": 4,
 "nbformat_minor": 5
}
